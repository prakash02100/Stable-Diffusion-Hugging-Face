{
  "nbformat": 4,
  "nbformat_minor": 0,
  "metadata": {
    "colab": {
      "private_outputs": true,
      "provenance": [],
      "include_colab_link": true
    },
    "kernelspec": {
      "name": "python3",
      "display_name": "Python 3"
    },
    "language_info": {
      "name": "python"
    },
    "accelerator": "GPU",
    "gpuClass": "standard"
  },
  "cells": [
    {
      "cell_type": "markdown",
      "metadata": {
        "id": "view-in-github",
        "colab_type": "text"
      },
      "source": [
        "<a href=\"https://colab.research.google.com/github/prakash02100/Stable-Diffusion-Hugging-Face/blob/main/stable_Diffusion.ipynb\" target=\"_parent\"><img src=\"https://colab.research.google.com/assets/colab-badge.svg\" alt=\"Open In Colab\"/></a>"
      ]
    },
    {
      "cell_type": "markdown",
      "source": [
        "**Hugging Face model..**.<br>\n",
        "Trained Model on GenerativeAI principles the Model will serve as text-image AI. This stable diffusion model helps to get started with hugging face model.<br>\n",
        "Github : **prakash72716@gmail.com**<br>\n",
        "Linkedin : https://www.linkedin.com/in/prakash-dass-r-97577725b\n",
        "<br><br>\n",
        "I built this in reference of youtube and Github.\n",
        "Documentation :https://docs.google.com/document/d/1Rw1UpYrDvMyM6yhf-7zlGhJZUfzl5RYUXKogtqOlZ8s/edit?usp=sharing"
      ],
      "metadata": {
        "id": "92Hlz5VStwQb"
      }
    },
    {
      "cell_type": "markdown",
      "source": [
        "Start with installing the required libraries"
      ],
      "metadata": {
        "id": "O2Z9ddK5JpjY"
      }
    },
    {
      "cell_type": "code",
      "execution_count": null,
      "metadata": {
        "id": "QuFz5uGi-h6G"
      },
      "outputs": [],
      "source": [
        "%pip install --quiet --upgrade diffusers transformers scipy mediapy accelerate"
      ]
    },
    {
      "cell_type": "markdown",
      "source": [
        "In this block of code it will ask for your token from Hugging Face. \n",
        "\n",
        "If you don't have an account you can make one here: https://huggingface.co/join\n",
        "\n",
        "Before you can do this you need to accept the license agreement for the model, which you can do here: https://huggingface.co/CompVis/stable-diffusion-v1-4\n",
        "\n",
        "On the token page select \"new token\" and ask for a \"read\" token (you can name it anything you want)."
      ],
      "metadata": {
        "id": "8pkEI3oVt_QD"
      }
    },
    {
      "cell_type": "markdown",
      "source": [
        "To get the token , you need to run this code then a link will available to you then. There you can get new token.\n",
        "<br>\n",
        "DOWN HERE YOU NEED TO ENTER THE TOKEN NUMBER AND THEN GIVE Y.THEN YOU CAN SEE THE MESSAGE \"LOGIN SUCCESFUL\". MOVE ON."
      ],
      "metadata": {
        "id": "_PaPTEKMIj3_"
      }
    },
    {
      "cell_type": "code",
      "source": [
        "!huggingface-cli login"
      ],
      "metadata": {
        "id": "GR4vF2bw-sHR"
      },
      "execution_count": null,
      "outputs": []
    },
    {
      "cell_type": "markdown",
      "source": [
        "Now we set up our model and pipeline. IF you want to remove the NSFW safety checker, change \"remove_safety\" to \"True\".<br>\n",
        "**NSFW stands for \"Not Safe for Work\"**"
      ],
      "metadata": {
        "id": "JAA8E3zXuKm1"
      }
    },
    {
      "cell_type": "code",
      "source": [
        "from diffusers import PNDMScheduler, DDIMScheduler, LMSDiscreteScheduler\n",
        "\n",
        "scheduler = PNDMScheduler(beta_start=0.00085, beta_end=0.012, beta_schedule=\"scaled_linear\", skip_prk_steps=True)"
      ],
      "metadata": {
        "id": "vF9Q0xKX8gLR"
      },
      "execution_count": null,
      "outputs": []
    },
    {
      "cell_type": "markdown",
      "source": [
        "These codes will import the 'PNDMScheduler' , 'DDIMScheduler' , and 'LMSDiscreteScheduler' classes from the diffusers library. It creates a new 'PNDMScheduler' object and sets the starting and ending values for the beta parameter. The 'PNDMScheduler' class is used to define a scheduler for the Stable Diffusion Model, which controls the diffusion process and determines how much noise is added at each step."
      ],
      "metadata": {
        "id": "fkDYlgj4R7u5"
      }
    },
    {
      "cell_type": "code",
      "source": [
        "import mediapy as media\n",
        "import torch\n",
        "from torch import autocast\n",
        "from diffusers import StableDiffusionPipeline"
      ],
      "metadata": {
        "id": "b1Pz5edRTIOV"
      },
      "execution_count": null,
      "outputs": []
    },
    {
      "cell_type": "markdown",
      "source": [
        "These codes help us to import necessary libraries and classes for the Stable Diffusion Pipeline, including mediapy, torch, autocast, and StableDiffusionPipeline."
      ],
      "metadata": {
        "id": "hHUbA1azTJxt"
      }
    },
    {
      "cell_type": "code",
      "source": [
        "model_id = \"CompVis/stable-diffusion-v1-4\"\n",
        "device = \"cuda\"\n",
        "remove_safety = False\n",
        "\n",
        "\n",
        "pipe = StableDiffusionPipeline.from_pretrained(model_id, scheduler=scheduler, torch_dtype=torch.float16, revision=\"fp16\", use_auth_token=True)\n",
        "if remove_safety:\n",
        "  pipe.safety_checker = lambda images, clip_input: (images, False)\n",
        "pipe = pipe.to(device)"
      ],
      "metadata": {
        "id": "bG2hkmSEvByV"
      },
      "execution_count": null,
      "outputs": []
    },
    {
      "cell_type": "markdown",
      "source": [
        "The above codes sets up a Stable Diffusion Pipeline for a pretrained model with the specified model_id. The pipeline is initialized with a scheduler, a tensor data type (torch.float16), and a revision (fp16). The remove_safety variable can be set to True to remove safety checks in the pipeline. Finally, the pipeline is moved to the specified device."
      ],
      "metadata": {
        "id": "CAKLWeUGTiDn"
      }
    },
    {
      "cell_type": "markdown",
      "source": [
        "Here is where you actually make images. Change the \"prompt\" to whatever you want to try and then change \"num_images\" if you want more than one image generated. You can re-run this cell without having to re-run everything before it, just FYI."
      ],
      "metadata": {
        "id": "IoTE794luOXD"
      }
    },
    {
      "cell_type": "code",
      "source": [
        "prompt = \"Generative AI\"\n",
        "num_images = 1\n",
        "\n",
        "prompts = [ prompt ] * num_images\n",
        "with autocast(\"cuda\"):\n",
        "    images = pipe(prompts, guidance_scale=7.5, num_inference_steps=50).images\n",
        "    \n",
        "media.show_images(images)\n",
        "images[0].save(\"output.jpeg\")"
      ],
      "metadata": {
        "id": "AUc4QJfE-uR9"
      },
      "execution_count": null,
      "outputs": []
    },
    {
      "cell_type": "markdown",
      "source": [
        "This is a training sample model. we need to train it more to achieve greater results."
      ],
      "metadata": {
        "id": "jApX41DlLHn9"
      }
    }
  ]
}